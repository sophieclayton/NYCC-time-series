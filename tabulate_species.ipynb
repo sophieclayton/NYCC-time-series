{
 "cells": [
  {
   "cell_type": "code",
   "execution_count": 1,
   "metadata": {},
   "outputs": [],
   "source": [
    "%matplotlib inline\n",
    "import pandas as pd\n",
    "import numpy as np\n",
    "import matplotlib.pyplot as plt\n",
    "import matplotlib\n",
    "import datetime\n",
    "# import cmocean.cm as cmo\n",
    "import glob\n",
    "\n",
    "matplotlib.rcParams['font.serif'] = \"Times New Roman\"\n",
    "matplotlib.rcParams['font.family'] = \"serif\"\n",
    "matplotlib.rcParams['font.size'] = '15.0'\n",
    "matplotlib.rcParams['text.usetex'] = 'True'"
   ]
  },
  {
   "cell_type": "code",
   "execution_count": 2,
   "metadata": {},
   "outputs": [
    {
     "data": {
      "text/plain": [
       "Index([u'Unnamed: 0', u'orig_id', u'runTime', u'inhibitTime', u'vol_ml'], dtype='object')"
      ]
     },
     "execution_count": 2,
     "metadata": {},
     "output_type": "execute_result"
    }
   ],
   "source": [
    "# get sample volumes per file\n",
    "infile = '../data/IFCB_DATA/sample_volumes.csv'\n",
    "ifcb_vols = pd.read_csv(infile)\n",
    "ifcb_vols.columns"
   ]
  },
  {
   "cell_type": "code",
   "execution_count": 3,
   "metadata": {},
   "outputs": [
    {
     "name": "stderr",
     "output_type": "stream",
     "text": [
      "/Users/sclayton/opt/anaconda3/envs/soph_py2/lib/python2.7/site-packages/IPython/core/interactiveshell.py:2714: DtypeWarning: Columns (5) have mixed types. Specify dtype option on import or set low_memory=False.\n",
      "  interactivity=interactivity, compiler=compiler, result=result)\n"
     ]
    }
   ],
   "source": [
    "#load in the ecotaxa counts\n",
    "\n",
    "infile = '../data/EcoTaxa_output/ecotaxa_export_2840_20210128_1745.tsv'\n",
    "data = pd.read_csv(infile, sep = '\\t', parse_dates = ['object_date'])\n",
    "data = data[data['object_date'].dt.year >2019]\n"
   ]
  },
  {
   "cell_type": "code",
   "execution_count": 12,
   "metadata": {},
   "outputs": [],
   "source": [
    "# reshape the data into a table with numbers of each taxa for each sample\n",
    "# get list of all taxa in table\n",
    "taxa = pd.unique(data.object_annotation_category)\n",
    "\n",
    "# initialise an empty dataframe to fill with taxa abundance for each sample\n",
    "df = pd.DataFrame(columns = taxa)\n",
    "df['sample_id'] = pd.unique(data.sample_id)\n",
    "df['date'] = \"\"\n",
    "df['vol_ml'] = 0 \n",
    "\n",
    "for s in pd.unique(data.sample_id):\n",
    "    df.loc[df.sample_id == s,['date']] = pd.unique(data.object_date.dt.date)[0]\n",
    "    df.loc[df.sample_id == s,['vol_ml']] = np.float(ifcb_vols.loc[ifcb_vols.orig_id == s, ['vol_ml']].values)\n",
    "\n",
    "    for t in taxa:\n",
    "        sub = data[(data.object_annotation_category == t) & (data.sample_id == s)]\n",
    "\n",
    "        if (sub[sub.object_annotation_category == t]).empty:\n",
    "            test = 0\n",
    "        else:\n",
    "            test = len((sub[(sub.object_annotation_category == t)]))\n",
    "        df.loc[df.sample_id == s, [t]] = test\n",
    "\n",
    "datetime_index = pd.DatetimeIndex(df.date.values)\n",
    "df = df.set_index(datetime_index)\n",
    "    \n",
    "# mm_pm = pm_df.resample('D').mean().dropna()\n",
    "# ss_pm = pm_df.resample('D').std().dropna()"
   ]
  },
  {
   "cell_type": "code",
   "execution_count": 14,
   "metadata": {},
   "outputs": [],
   "source": [
    "# df.to_csv('../data/taxa_abundance_v0.1.csv', sep=',', index= False)"
   ]
  },
  {
   "cell_type": "code",
   "execution_count": null,
   "metadata": {},
   "outputs": [],
   "source": []
  }
 ],
 "metadata": {
  "kernelspec": {
   "display_name": "Python 2",
   "language": "python",
   "name": "python2"
  },
  "language_info": {
   "codemirror_mode": {
    "name": "ipython",
    "version": 2
   },
   "file_extension": ".py",
   "mimetype": "text/x-python",
   "name": "python",
   "nbconvert_exporter": "python",
   "pygments_lexer": "ipython2",
   "version": "2.7.17"
  }
 },
 "nbformat": 4,
 "nbformat_minor": 2
}
